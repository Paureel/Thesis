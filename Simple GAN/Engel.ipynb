{
 "cells": [
  {
   "cell_type": "code",
   "execution_count": 1,
   "metadata": {},
   "outputs": [
    {
     "name": "stdout",
     "output_type": "stream",
     "text": [
      "1.13.1\n"
     ]
    }
   ],
   "source": [
    "import _gan_keras\n",
    "import pandas as pd\n",
    "import numpy as np\n",
    "import matplotlib.pyplot as plt\n",
    "import umap\n",
    "import seaborn as sns\n",
    "from sklearn.decomposition import PCA\n",
    "import copy\n",
    "from scipy import stats\n",
    "import random\n",
    "random.seed(42)\n",
    "from scipy.stats import kde\n",
    "\n"
   ]
  },
  {
   "cell_type": "markdown",
   "metadata": {},
   "source": [
    "# Reading the data"
   ]
  },
  {
   "cell_type": "code",
   "execution_count": 2,
   "metadata": {},
   "outputs": [],
   "source": [
    "input_ltpm_matrix = pd.read_csv('Engel.tsv', delimiter='\\t')\n",
    "input_ltpm_matrix = input_ltpm_matrix.iloc[:,1:]\n",
    "input_ltpm_matrix = np.log2(input_ltpm_matrix+1)\n",
    "input_ltpm_matrix = input_ltpm_matrix.T\n",
    "\n",
    "varlist = input_ltpm_matrix.var(axis=0) \n",
    "varlist = sorted(range(len(varlist)), key=lambda i: varlist[i])[-5000:]\n",
    "input_ltpm_matrix = input_ltpm_matrix.iloc[:,varlist]\n",
    "\n",
    "input_ltpm_matrix_sampled = input_ltpm_matrix.sample(200)\n",
    "input_ltpm_matrix_train = input_ltpm_matrix_sampled.iloc[0:200,:]\n",
    "input_ltpm_matrix_validation = input_ltpm_matrix_train\n"
   ]
  },
  {
   "cell_type": "code",
   "execution_count": 3,
   "metadata": {},
   "outputs": [
    {
     "data": {
      "text/html": [
       "<div>\n",
       "<style scoped>\n",
       "    .dataframe tbody tr th:only-of-type {\n",
       "        vertical-align: middle;\n",
       "    }\n",
       "\n",
       "    .dataframe tbody tr th {\n",
       "        vertical-align: top;\n",
       "    }\n",
       "\n",
       "    .dataframe thead th {\n",
       "        text-align: right;\n",
       "    }\n",
       "</style>\n",
       "<table border=\"1\" class=\"dataframe\">\n",
       "  <thead>\n",
       "    <tr style=\"text-align: right;\">\n",
       "      <th></th>\n",
       "      <th>10747</th>\n",
       "      <th>4893</th>\n",
       "      <th>1337</th>\n",
       "      <th>6260</th>\n",
       "      <th>7088</th>\n",
       "      <th>11636</th>\n",
       "      <th>3824</th>\n",
       "      <th>1223</th>\n",
       "      <th>11445</th>\n",
       "      <th>7427</th>\n",
       "      <th>...</th>\n",
       "      <th>10582</th>\n",
       "      <th>1199</th>\n",
       "      <th>33938</th>\n",
       "      <th>6926</th>\n",
       "      <th>4015</th>\n",
       "      <th>35472</th>\n",
       "      <th>17414</th>\n",
       "      <th>15511</th>\n",
       "      <th>8247</th>\n",
       "      <th>34199</th>\n",
       "    </tr>\n",
       "  </thead>\n",
       "  <tbody>\n",
       "    <tr>\n",
       "      <th>GSM1923445</th>\n",
       "      <td>0.0</td>\n",
       "      <td>0.00000</td>\n",
       "      <td>1.159804</td>\n",
       "      <td>2.584963</td>\n",
       "      <td>1.000000</td>\n",
       "      <td>9.252128</td>\n",
       "      <td>0.0</td>\n",
       "      <td>0.0</td>\n",
       "      <td>0.000000</td>\n",
       "      <td>0.000000</td>\n",
       "      <td>...</td>\n",
       "      <td>2.321928</td>\n",
       "      <td>2.584962</td>\n",
       "      <td>2.350777</td>\n",
       "      <td>3.000000</td>\n",
       "      <td>12.455463</td>\n",
       "      <td>1.055626</td>\n",
       "      <td>4.192399</td>\n",
       "      <td>2.321929</td>\n",
       "      <td>13.488719</td>\n",
       "      <td>11.110177</td>\n",
       "    </tr>\n",
       "    <tr>\n",
       "      <th>GSM1923446</th>\n",
       "      <td>0.0</td>\n",
       "      <td>1.00000</td>\n",
       "      <td>0.000000</td>\n",
       "      <td>2.584963</td>\n",
       "      <td>6.089875</td>\n",
       "      <td>2.751067</td>\n",
       "      <td>0.0</td>\n",
       "      <td>0.0</td>\n",
       "      <td>10.800091</td>\n",
       "      <td>1.584963</td>\n",
       "      <td>...</td>\n",
       "      <td>0.000000</td>\n",
       "      <td>10.208222</td>\n",
       "      <td>7.777505</td>\n",
       "      <td>11.189825</td>\n",
       "      <td>11.843674</td>\n",
       "      <td>0.756724</td>\n",
       "      <td>10.205109</td>\n",
       "      <td>10.617311</td>\n",
       "      <td>13.167104</td>\n",
       "      <td>10.200053</td>\n",
       "    </tr>\n",
       "    <tr>\n",
       "      <th>GSM1923447</th>\n",
       "      <td>0.0</td>\n",
       "      <td>0.00000</td>\n",
       "      <td>1.000000</td>\n",
       "      <td>3.459432</td>\n",
       "      <td>0.000000</td>\n",
       "      <td>3.238305</td>\n",
       "      <td>0.0</td>\n",
       "      <td>0.0</td>\n",
       "      <td>2.000000</td>\n",
       "      <td>0.000000</td>\n",
       "      <td>...</td>\n",
       "      <td>1.000000</td>\n",
       "      <td>0.000000</td>\n",
       "      <td>0.000000</td>\n",
       "      <td>11.063395</td>\n",
       "      <td>4.606857</td>\n",
       "      <td>0.001772</td>\n",
       "      <td>2.326858</td>\n",
       "      <td>2.807355</td>\n",
       "      <td>11.828533</td>\n",
       "      <td>2.807101</td>\n",
       "    </tr>\n",
       "    <tr>\n",
       "      <th>GSM1923448</th>\n",
       "      <td>0.0</td>\n",
       "      <td>0.00000</td>\n",
       "      <td>1.000000</td>\n",
       "      <td>11.008912</td>\n",
       "      <td>0.000000</td>\n",
       "      <td>1.614903</td>\n",
       "      <td>0.0</td>\n",
       "      <td>0.0</td>\n",
       "      <td>1.000000</td>\n",
       "      <td>0.000000</td>\n",
       "      <td>...</td>\n",
       "      <td>2.695295</td>\n",
       "      <td>11.112374</td>\n",
       "      <td>2.597974</td>\n",
       "      <td>11.425216</td>\n",
       "      <td>3.425745</td>\n",
       "      <td>0.001138</td>\n",
       "      <td>0.000000</td>\n",
       "      <td>3.807359</td>\n",
       "      <td>15.027085</td>\n",
       "      <td>1.584583</td>\n",
       "    </tr>\n",
       "    <tr>\n",
       "      <th>GSM1923449</th>\n",
       "      <td>0.0</td>\n",
       "      <td>5.83289</td>\n",
       "      <td>0.000000</td>\n",
       "      <td>3.321928</td>\n",
       "      <td>0.000000</td>\n",
       "      <td>4.351642</td>\n",
       "      <td>0.0</td>\n",
       "      <td>0.0</td>\n",
       "      <td>10.864962</td>\n",
       "      <td>0.000000</td>\n",
       "      <td>...</td>\n",
       "      <td>1.000000</td>\n",
       "      <td>11.160502</td>\n",
       "      <td>0.001735</td>\n",
       "      <td>11.182090</td>\n",
       "      <td>13.232767</td>\n",
       "      <td>1.031565</td>\n",
       "      <td>11.311487</td>\n",
       "      <td>10.709420</td>\n",
       "      <td>13.130088</td>\n",
       "      <td>11.080791</td>\n",
       "    </tr>\n",
       "  </tbody>\n",
       "</table>\n",
       "<p>5 rows × 5000 columns</p>\n",
       "</div>"
      ],
      "text/plain": [
       "            10747    4893      1337       6260      7088      11636  3824   \\\n",
       "GSM1923445    0.0  0.00000  1.159804   2.584963  1.000000  9.252128    0.0   \n",
       "GSM1923446    0.0  1.00000  0.000000   2.584963  6.089875  2.751067    0.0   \n",
       "GSM1923447    0.0  0.00000  1.000000   3.459432  0.000000  3.238305    0.0   \n",
       "GSM1923448    0.0  0.00000  1.000000  11.008912  0.000000  1.614903    0.0   \n",
       "GSM1923449    0.0  5.83289  0.000000   3.321928  0.000000  4.351642    0.0   \n",
       "\n",
       "            1223       11445     7427   ...     10582      1199      33938  \\\n",
       "GSM1923445    0.0   0.000000  0.000000  ...  2.321928   2.584962  2.350777   \n",
       "GSM1923446    0.0  10.800091  1.584963  ...  0.000000  10.208222  7.777505   \n",
       "GSM1923447    0.0   2.000000  0.000000  ...  1.000000   0.000000  0.000000   \n",
       "GSM1923448    0.0   1.000000  0.000000  ...  2.695295  11.112374  2.597974   \n",
       "GSM1923449    0.0  10.864962  0.000000  ...  1.000000  11.160502  0.001735   \n",
       "\n",
       "                6926       4015      35472      17414      15511      8247   \\\n",
       "GSM1923445   3.000000  12.455463  1.055626   4.192399   2.321929  13.488719   \n",
       "GSM1923446  11.189825  11.843674  0.756724  10.205109  10.617311  13.167104   \n",
       "GSM1923447  11.063395   4.606857  0.001772   2.326858   2.807355  11.828533   \n",
       "GSM1923448  11.425216   3.425745  0.001138   0.000000   3.807359  15.027085   \n",
       "GSM1923449  11.182090  13.232767  1.031565  11.311487  10.709420  13.130088   \n",
       "\n",
       "                34199  \n",
       "GSM1923445  11.110177  \n",
       "GSM1923446  10.200053  \n",
       "GSM1923447   2.807101  \n",
       "GSM1923448   1.584583  \n",
       "GSM1923449  11.080791  \n",
       "\n",
       "[5 rows x 5000 columns]"
      ]
     },
     "execution_count": 3,
     "metadata": {},
     "output_type": "execute_result"
    }
   ],
   "source": [
    "input_ltpm_matrix.head()"
   ]
  },
  {
   "cell_type": "code",
   "execution_count": 4,
   "metadata": {},
   "outputs": [
    {
     "data": {
      "text/plain": [
       "(203, 5000)"
      ]
     },
     "execution_count": 4,
     "metadata": {},
     "output_type": "execute_result"
    }
   ],
   "source": [
    "input_ltpm_matrix.shape"
   ]
  },
  {
   "cell_type": "code",
   "execution_count": 5,
   "metadata": {},
   "outputs": [
    {
     "data": {
      "text/plain": [
       "(200, 5000)"
      ]
     },
     "execution_count": 5,
     "metadata": {},
     "output_type": "execute_result"
    }
   ],
   "source": [
    "input_ltpm_matrix_sampled.shape"
   ]
  },
  {
   "cell_type": "code",
   "execution_count": 6,
   "metadata": {},
   "outputs": [
    {
     "data": {
      "text/plain": [
       "(200, 5000)"
      ]
     },
     "execution_count": 6,
     "metadata": {},
     "output_type": "execute_result"
    }
   ],
   "source": [
    "input_ltpm_matrix_train.shape"
   ]
  },
  {
   "cell_type": "code",
   "execution_count": 7,
   "metadata": {},
   "outputs": [
    {
     "data": {
      "text/plain": [
       "(200, 5000)"
      ]
     },
     "execution_count": 7,
     "metadata": {},
     "output_type": "execute_result"
    }
   ],
   "source": [
    "input_ltpm_matrix_validation.shape"
   ]
  },
  {
   "cell_type": "markdown",
   "metadata": {},
   "source": [
    "# Filter the data if needed"
   ]
  },
  {
   "cell_type": "markdown",
   "metadata": {},
   "source": [
    "# Train the weights on all the data"
   ]
  },
  {
   "cell_type": "code",
   "execution_count": 8,
   "metadata": {},
   "outputs": [
    {
     "name": "stdout",
     "output_type": "stream",
     "text": [
      "WARNING:tensorflow:From /home/paureel/DSLAB/section_5/_gan_keras.py:76: dense (from tensorflow.python.layers.core) is deprecated and will be removed in a future version.\n",
      "Instructions for updating:\n",
      "Use keras.layers.dense instead.\n",
      "WARNING:tensorflow:From /home/paureel/.local/lib/python3.5/site-packages/tensorflow/python/framework/op_def_library.py:263: colocate_with (from tensorflow.python.framework.ops) is deprecated and will be removed in a future version.\n",
      "Instructions for updating:\n",
      "Colocations handled automatically by placer.\n",
      "WARNING:tensorflow:From /home/paureel/.local/lib/python3.5/site-packages/tensorflow/python/ops/math_ops.py:3066: to_int32 (from tensorflow.python.ops.math_ops) is deprecated and will be removed in a future version.\n",
      "Instructions for updating:\n",
      "Use tf.cast instead.\n"
     ]
    }
   ],
   "source": [
    "GAN_test = _gan_keras.GAN_keras(np.amax(input_ltpm_matrix_train.values), input_ltpm_matrix_train.shape[1], input_ltpm_matrix_train)"
   ]
  },
  {
   "cell_type": "code",
   "execution_count": null,
   "metadata": {},
   "outputs": [
    {
     "name": "stderr",
     "output_type": "stream",
     "text": [
      "/home/paureel/.local/lib/python3.5/site-packages/umap/spectral.py:229: UserWarning: Embedding a total of 2 separate connected components using meta-embedding (experimental)\n",
      "  n_components\n"
     ]
    },
    {
     "data": {
      "image/png": "[encoded data removed]",
      "text/plain": [
       "<Figure size 576x576 with 1 Axes>"
      ]
     },
     "metadata": {
      "needs_background": "light"
     },
     "output_type": "display_data"
    },
    {
     "data": {
      "text/plain": [
       "[array([ 6.3115253,  6.70972  ,  6.964168 ,  6.8388886,  5.8398147,\n",
       "         6.852228 ,  7.3704257,  7.291812 ,  6.617024 ,  5.4782553,\n",
       "         5.952455 ,  5.396868 ,  7.0138993,  6.6420226,  7.0548234,\n",
       "         6.9909205,  6.5892377,  6.840531 ,  5.848496 ,  5.444573 ,\n",
       "         7.219521 ,  6.001198 ,  6.612585 ,  7.2436543,  6.490931 ,\n",
       "         5.7234178,  7.028429 ,  7.3180194,  5.422529 ,  6.7479815,\n",
       "         5.8968434,  6.3345633,  6.1623325,  6.827125 ,  6.331377 ,\n",
       "         5.265514 ,  5.8219314,  6.264816 ,  5.515659 ,  6.9490485,\n",
       "         5.713445 ,  6.67035  ,  6.9003725,  6.5557375,  6.598536 ,\n",
       "         5.564226 ,  6.722527 ,  5.872628 ,  7.081125 ,  7.1388264,\n",
       "         5.8448462,  5.807316 ,  5.429136 ,  5.738388 ,  6.990658 ,\n",
       "         5.54792  ,  6.5025377,  6.8605175,  6.15609  ,  7.0732665,\n",
       "         5.574674 ,  7.176041 ,  6.743382 ,  5.984479 ,  6.4961133,\n",
       "         7.025954 ,  6.8400784,  7.011554 ,  7.039335 ,  5.9382925,\n",
       "         5.8968115,  7.0446677,  5.588324 ,  5.8307104,  7.021823 ,\n",
       "         5.378266 ,  6.885791 ,  6.4942865,  6.739504 ,  5.9499907,\n",
       "         6.895532 ,  7.0240483,  6.1719503,  5.9209013,  6.2895837,\n",
       "         7.0300155,  5.3030643,  6.38278  ,  6.827445 ,  7.16118  ,\n",
       "         7.0198464,  5.9749446,  5.948179 ,  6.479156 ,  5.6751595,\n",
       "         6.7864423,  6.32821  ,  6.1839075,  6.6095605,  6.527641 ,\n",
       "         5.7477846,  5.38207  ,  6.3748093,  5.4133415,  5.4722013,\n",
       "         6.5893416,  6.0613174,  5.715668 ,  5.9658737,  5.315491 ,\n",
       "         6.8190284,  5.940998 ,  5.964685 ,  5.732725 ,  5.334358 ,\n",
       "         7.148739 ,  6.00349  ,  6.926119 ,  5.400256 ,  6.110818 ,\n",
       "         6.041029 ,  6.9768367,  6.102394 ,  6.062596 ,  7.1699257,\n",
       "         6.611423 ,  6.528821 ,  6.607933 ,  6.665423 ,  5.993197 ,\n",
       "         6.794951 ,  7.258779 ,  5.9952836,  6.528968 ,  5.8804526,\n",
       "         5.716392 ,  6.84854  ,  7.282365 ,  6.6180954,  6.294014 ,\n",
       "         6.2362986,  6.405693 ,  5.938035 ,  5.3579426,  6.524245 ,\n",
       "         5.6437273,  5.390598 ,  6.172649 ,  7.372879 ,  6.0859184,\n",
       "         5.8305144,  7.0315237,  6.8812   ,  5.9841437,  7.07936  ,\n",
       "         6.294175 ,  6.4854383,  6.712457 ,  6.8026714,  7.0440097,\n",
       "         6.6538363,  6.9088316,  5.963922 ,  7.293733 ,  6.72885  ,\n",
       "         6.7008867,  6.09909  ,  6.3424015,  7.147168 ,  6.7481055,\n",
       "         5.807503 ,  6.800244 ,  7.155664 ,  6.516016 ,  5.9237576,\n",
       "         6.878082 ,  7.2163353,  5.4572034,  6.372227 ,  6.97731  ,\n",
       "         6.483295 ,  6.9183283,  7.249054 ,  6.173195 ,  6.55386  ,\n",
       "         7.0990176,  6.740499 ,  6.926658 ,  5.947485 ,  7.2127385,\n",
       "         6.9172277,  6.9580626,  6.9873776,  6.5162363,  6.42395  ,\n",
       "         5.9885035,  6.173698 ,  7.10164  ,  7.1869745,  5.820645 ,\n",
       "        -9.026749 , -9.4959345, -8.876739 , -7.591026 , -8.045085 ,\n",
       "        -9.221298 , -7.807896 , -8.733756 , -9.381473 , -9.481148 ,\n",
       "        -8.810646 , -8.312401 , -9.191865 , -9.16102  , -8.466071 ,\n",
       "        -8.895584 , -9.009911 , -8.031137 , -8.807864 , -8.312702 ,\n",
       "        -8.671941 , -8.994273 , -8.022078 , -7.825884 , -7.935258 ,\n",
       "        -8.727798 , -9.490418 , -8.952979 , -8.9030075, -8.39652  ,\n",
       "        -8.787179 , -8.814077 , -8.336128 , -8.401809 , -7.8836308,\n",
       "        -7.7820897, -9.016741 , -7.6598463, -9.061934 , -8.339893 ,\n",
       "        -8.513277 , -8.836042 , -8.09913  , -8.075544 , -9.199762 ,\n",
       "        -9.0151615, -9.286114 , -8.675611 , -8.613818 , -7.808592 ,\n",
       "        -8.350439 , -8.155926 , -7.990047 , -7.4882665, -8.946599 ,\n",
       "        -8.208008 , -8.775092 , -8.38519  , -8.817983 , -7.910649 ,\n",
       "        -9.145007 , -7.756119 , -8.353792 , -7.703113 , -8.479339 ,\n",
       "        -8.113291 , -8.374967 , -9.659096 , -8.725613 , -9.027209 ,\n",
       "        -8.712776 , -8.71596  , -8.206516 , -8.31068  , -9.741035 ,\n",
       "        -7.9180946, -8.664187 , -8.886434 , -9.65675  , -9.400185 ,\n",
       "        -7.956702 , -8.601745 , -8.709878 , -7.7178206, -8.779376 ,\n",
       "        -9.038841 , -8.927466 , -9.245155 , -8.8723545, -8.67749  ,\n",
       "        -9.369099 , -8.531877 , -8.226578 , -9.192045 , -8.074127 ,\n",
       "        -9.439268 , -8.536577 , -8.811479 , -7.490835 , -8.859479 ,\n",
       "        -8.510643 , -8.04491  , -8.404849 , -8.241688 , -8.665125 ,\n",
       "        -8.499079 , -7.4267015, -7.921698 , -7.8793073, -9.745994 ,\n",
       "        -8.435262 , -9.527191 , -7.750697 , -7.7475295, -8.391494 ,\n",
       "        -8.229315 , -8.744201 , -8.845526 , -8.421528 , -8.217235 ,\n",
       "        -8.77577  , -9.499339 , -8.474854 , -9.187624 , -8.976253 ,\n",
       "        -8.501549 , -9.589189 , -8.377388 , -8.917055 , -8.941474 ,\n",
       "        -8.329123 , -7.8464003, -8.219672 , -8.013539 , -8.083106 ,\n",
       "        -8.376615 , -8.541183 , -7.7167573, -8.958745 , -8.126492 ,\n",
       "        -7.6787305, -8.29604  , -8.619809 , -8.269438 , -9.343629 ,\n",
       "        -9.224599 , -8.661503 , -9.077048 , -8.010957 , -9.557818 ,\n",
       "        -7.7331963, -9.1537   , -8.221766 , -7.6977134, -9.307641 ,\n",
       "        -8.328071 , -8.491364 , -7.977218 , -8.778693 , -8.598252 ,\n",
       "        -9.027521 , -9.244129 , -8.601102 , -9.075491 , -7.9818563,\n",
       "        -9.027975 , -9.015933 , -9.176909 , -8.768678 , -7.8447223,\n",
       "        -9.451815 , -9.138554 , -8.142139 , -8.608659 , -8.460503 ,\n",
       "        -8.157962 , -9.767708 , -8.327569 , -8.963704 , -9.436908 ,\n",
       "        -8.504846 , -8.853791 , -8.860944 , -8.348098 , -8.418212 ,\n",
       "        -8.042091 , -9.063368 , -8.9109745, -8.597898 , -7.908195 ,\n",
       "        -8.039339 , -9.1991415, -8.979501 , -9.176472 , -7.8221927,\n",
       "        -8.06292  , -8.576783 , -8.071414 , -8.183049 , -8.474613 ],\n",
       "       dtype=float32),\n",
       " array([-4.2846394, -3.5334105, -1.4023412, -4.328608 , -5.2554784,\n",
       "        -4.327515 , -1.63043  , -1.2807224, -3.3133254, -6.12444  ,\n",
       "        -4.317385 , -6.139436 , -1.5313725, -4.1420197, -5.7221303,\n",
       "        -3.3561656, -5.8348184, -1.8334213, -5.7155867, -5.8069515,\n",
       "        -4.916097 , -5.82866  , -2.9461436, -5.132654 , -5.8800716,\n",
       "        -5.8677397, -5.638776 , -1.4328297, -4.331016 , -1.6370018,\n",
       "        -5.340015 , -5.11662  , -4.9194226, -4.946329 , -2.5238924,\n",
       "        -5.4543643, -4.3072743, -4.6067386, -4.4512644, -1.9175992,\n",
       "        -6.202036 , -2.5517802, -5.666192 , -5.576743 , -6.0475116,\n",
       "        -4.5031557, -5.579153 , -3.7163744, -1.5818022, -5.7909884,\n",
       "        -5.53553  , -4.45345  , -6.1740885, -6.4286594, -3.522417 ,\n",
       "        -4.3807244, -4.944375 , -3.1617198, -2.7428794, -1.2814935,\n",
       "        -4.5602393, -5.7662187, -3.0548666, -5.5175295, -2.6674035,\n",
       "        -1.5025319, -5.9631205, -2.9119086, -1.7025766, -4.118114 ,\n",
       "        -6.378578 , -1.720512 , -6.009613 , -4.836544 , -2.0653207,\n",
       "        -5.4774256, -2.1614196, -5.8070292, -2.555116 , -5.6678944,\n",
       "        -3.1300545, -5.873521 , -4.5107327, -4.099377 , -3.5432065,\n",
       "        -2.9553633, -6.1306524, -2.4608564, -3.234944 , -1.4614613,\n",
       "        -5.275151 , -5.4828806, -4.878231 , -3.033822 , -4.974781 ,\n",
       "        -2.7151651, -2.7259579, -2.8541374, -3.6586053, -4.6957984,\n",
       "        -4.0668774, -5.6349926, -4.930536 , -4.528632 , -6.043351 ,\n",
       "        -2.8885741, -3.301863 , -4.8953257, -4.4415646, -5.42053  ,\n",
       "        -4.835441 , -4.7350593, -5.8414807, -5.5419188, -5.929953 ,\n",
       "        -1.5297879, -4.160912 , -5.389479 , -4.4875817, -4.880598 ,\n",
       "        -6.310439 , -5.3610406, -2.884166 , -5.96647  , -4.0140476,\n",
       "        -5.374992 , -5.0566874, -3.2831855, -2.9425454, -6.234669 ,\n",
       "        -2.8580995, -1.3002695, -4.490488 , -5.316103 , -6.3185363,\n",
       "        -4.6570606, -3.2362392, -1.852771 , -5.3955345, -2.9867969,\n",
       "        -4.960425 , -3.1092172, -5.025899 , -5.4814434, -3.3436723,\n",
       "        -5.30618  , -5.22242  , -5.8675594, -1.3803751, -4.7231827,\n",
       "        -5.305501 , -5.4919047, -5.8513837, -5.5169244, -1.6609868,\n",
       "        -5.0826   , -2.9438543, -3.0282524, -2.3456237, -1.7008735,\n",
       "        -5.4835377, -2.4184866, -3.9907246, -1.6715742, -2.8565638,\n",
       "        -5.038295 , -3.8269196, -5.8686295, -5.157958 , -4.844453 ,\n",
       "        -6.330242 , -2.5554414, -1.636516 , -3.124607 , -5.5864196,\n",
       "        -4.896137 , -1.5002087, -6.1180024, -3.2221818, -1.494638 ,\n",
       "        -5.268111 , -2.75616  , -5.750267 , -3.9703848, -4.110797 ,\n",
       "        -1.796815 , -3.4107325, -2.2435508, -6.345809 , -1.4053047,\n",
       "        -5.840843 , -3.0779173, -2.7377238, -2.573789 , -5.330878 ,\n",
       "        -4.2924886, -3.409579 , -5.809407 , -4.800272 , -5.634375 ,\n",
       "         5.781285 ,  4.9408045,  6.2253585,  3.1160028,  4.6003704,\n",
       "         5.9883366,  3.8511946,  2.4287164,  4.411675 ,  4.3142953,\n",
       "         6.2228208,  4.446008 ,  4.58385  ,  3.8463051,  4.52011  ,\n",
       "         4.20655  ,  6.133223 ,  2.893794 ,  5.341304 ,  2.202854 ,\n",
       "         3.012524 ,  5.573716 ,  2.6278853,  4.9603105,  5.2194514,\n",
       "         5.4502206,  3.8213172,  5.27308  ,  3.2116268,  5.292664 ,\n",
       "         3.444233 ,  6.1769576,  3.5746655,  3.4709039,  2.5114048,\n",
       "         4.318892 ,  3.8790007,  2.7054894,  6.211604 ,  2.4956722,\n",
       "         5.1211643,  5.911316 ,  4.9628158,  2.0180645,  5.5909076,\n",
       "         2.8252928,  3.196249 ,  2.4078271,  5.518828 ,  2.9299319,\n",
       "         3.0446422,  5.490693 ,  4.126091 ,  4.5355744,  3.1454191,\n",
       "         3.3853245,  4.7181544,  3.8357797,  2.6627522,  5.0338774,\n",
       "         5.1875668,  2.3282971,  2.8612654,  3.094625 ,  4.2216315,\n",
       "         3.2343504,  4.672767 ,  5.430033 ,  2.8302698,  3.2605731,\n",
       "         5.1275525,  3.4588704,  3.3196173,  3.5674117,  5.1999927,\n",
       "         4.771215 ,  4.4159803,  4.685021 ,  4.6066046,  5.636365 ,\n",
       "         4.4859266,  6.2910666,  5.4899235,  2.9518962,  5.0929937,\n",
       "         3.9559212,  6.3480587,  6.2308707,  6.051644 ,  5.1585803,\n",
       "         4.0027647,  4.715697 ,  4.9354644,  4.779415 ,  3.9656198,\n",
       "         4.6845994,  2.7984633,  3.0184317,  4.684635 ,  3.418968 ,\n",
       "         2.44929  ,  5.2992716,  2.3502672,  2.2638283,  6.4372334,\n",
       "         4.5678906,  4.613694 ,  5.16844  ,  4.0781736,  4.2733593,\n",
       "         2.3305345,  5.344348 ,  2.442018 ,  4.414918 ,  3.4112446,\n",
       "         2.6384356,  2.6341023,  3.8858323,  2.4733005,  5.7311273,\n",
       "         5.760221 ,  5.6852264,  3.0796301,  3.592424 ,  4.6183357,\n",
       "         3.7072742,  4.6389904,  2.6699896,  6.287699 ,  4.058699 ,\n",
       "         5.9737782,  3.6595464,  2.0882664,  3.4911366,  2.9213889,\n",
       "         5.4285927,  5.03213  ,  4.428597 ,  3.79178  ,  4.969545 ,\n",
       "         4.4955835,  5.4479446,  5.6498556,  4.144311 ,  5.242162 ,\n",
       "         4.959701 ,  5.928115 ,  4.4206877,  5.6882057,  4.0752215,\n",
       "         3.0913057,  3.39839  ,  3.1160605,  4.472109 ,  5.1304502,\n",
       "         2.291652 ,  2.289925 ,  5.474763 ,  4.0112677,  3.103097 ,\n",
       "         6.2785106,  4.360236 ,  5.9059124,  5.749915 ,  4.370379 ,\n",
       "         3.6161644,  5.042014 ,  3.7142582,  4.848719 ,  3.7598891,\n",
       "         5.049225 ,  5.269131 ,  5.716588 ,  3.6513896,  3.0091336,\n",
       "         4.434233 ,  4.3887033,  5.202034 ,  5.7584276,  4.8043737,\n",
       "         5.3850975,  2.4963863,  6.0029798,  3.2936647,  2.8850403,\n",
       "         3.0753965,  4.4443336,  5.2234936,  3.250108 ,  5.281869 ,\n",
       "         2.035241 ,  4.8332024,  2.7692294,  5.5612946,  3.3262625,\n",
       "         2.0882854,  2.6917481,  2.6959307,  3.3839073,  5.0044975],\n",
       "       dtype=float32),\n",
       " 0      0\n",
       " 1      0\n",
       " 2      0\n",
       " 3      0\n",
       " 4      0\n",
       " 5      0\n",
       " 6      0\n",
       " 7      0\n",
       " 8      0\n",
       " 9      0\n",
       " 10     0\n",
       " 11     0\n",
       " 12     0\n",
       " 13     0\n",
       " 14     0\n",
       " 15     0\n",
       " 16     0\n",
       " 17     0\n",
       " 18     0\n",
       " 19     0\n",
       " 20     0\n",
       " 21     0\n",
       " 22     0\n",
       " 23     0\n",
       " 24     0\n",
       " 25     0\n",
       " 26     0\n",
       " 27     0\n",
       " 28     0\n",
       " 29     0\n",
       "       ..\n",
       " 370    1\n",
       " 371    1\n",
       " 372    1\n",
       " 373    1\n",
       " 374    1\n",
       " 375    1\n",
       " 376    1\n",
       " 377    1\n",
       " 378    1\n",
       " 379    1\n",
       " 380    1\n",
       " 381    1\n",
       " 382    1\n",
       " 383    1\n",
       " 384    1\n",
       " 385    1\n",
       " 386    1\n",
       " 387    1\n",
       " 388    1\n",
       " 389    1\n",
       " 390    1\n",
       " 391    1\n",
       " 392    1\n",
       " 393    1\n",
       " 394    1\n",
       " 395    1\n",
       " 396    1\n",
       " 397    1\n",
       " 398    1\n",
       " 399    1\n",
       " Name: lab, Length: 400, dtype: int64]"
      ]
     },
     "execution_count": 9,
     "metadata": {},
     "output_type": "execute_result"
    }
   ],
   "source": [
    "GAN_test.plot_UMAP(200)"
   ]
  },
  {
   "cell_type": "code",
   "execution_count": null,
   "metadata": {},
   "outputs": [
    {
     "name": "stdout",
     "output_type": "stream",
     "text": [
      "0.0%\n",
      "0.04%\n",
      "0.08%\n",
      "0.12%\n",
      "0.16%\n",
      "0.2%\n",
      "0.24%\n",
      "0.27999999999999997%\n",
      "0.32%\n",
      "0.36%\n",
      "0.4%\n",
      "0.44%\n",
      "0.48%\n",
      "0.52%\n",
      "0.5599999999999999%\n",
      "0.6%\n",
      "0.64%\n",
      "0.6799999999999999%\n",
      "0.72%\n",
      "0.76%\n",
      "0.8%\n",
      "0.84%\n",
      "0.88%\n",
      "0.9199999999999999%\n",
      "0.96%\n",
      "1.0%\n",
      "1.04%\n",
      "1.08%\n",
      "1.1199999999999999%\n",
      "1.16%\n",
      "1.2%\n",
      "1.24%\n",
      "1.28%\n",
      "1.32%\n",
      "1.3599999999999999%\n",
      "1.4000000000000001%\n",
      "1.44%\n",
      "1.48%\n",
      "1.52%\n",
      "1.5599999999999998%\n",
      "1.6%\n",
      "1.6400000000000001%\n",
      "1.68%\n",
      "1.72%\n",
      "1.76%\n",
      "1.7999999999999998%\n",
      "1.8399999999999999%\n",
      "1.8800000000000001%\n",
      "1.92%\n",
      "1.96%\n",
      "2.0%\n",
      "2.04%\n",
      "2.08%\n",
      "2.12%\n",
      "2.16%\n",
      "2.1999999999999997%\n",
      "2.2399999999999998%\n",
      "2.2800000000000002%\n",
      "2.32%\n",
      "2.36%\n",
      "2.4%\n",
      "2.44%\n",
      "2.48%\n",
      "2.52%\n",
      "2.56%\n",
      "2.6%\n",
      "2.64%\n",
      "2.68%\n",
      "2.7199999999999998%\n",
      "2.76%\n",
      "2.8000000000000003%\n",
      "2.8400000000000003%\n",
      "2.88%\n",
      "2.92%\n",
      "2.96%\n",
      "3.0%\n",
      "3.04%\n",
      "3.08%\n",
      "3.1199999999999997%\n",
      "3.16%\n",
      "3.2%\n",
      "3.2399999999999998%\n",
      "3.2800000000000002%\n",
      "3.32%\n",
      "3.36%\n",
      "3.4000000000000004%\n",
      "3.44%\n",
      "3.4799999999999995%\n",
      "3.52%\n",
      "3.56%\n",
      "3.5999999999999996%\n",
      "3.64%\n",
      "3.6799999999999997%\n",
      "3.7199999999999998%\n",
      "3.7600000000000002%\n",
      "3.8%\n",
      "3.84%\n",
      "3.88%\n",
      "3.92%\n",
      "3.9600000000000004%\n",
      "4.0%\n",
      "4.04%\n",
      "4.08%\n",
      "4.12%\n",
      "4.16%\n",
      "4.2%\n",
      "4.24%\n",
      "4.279999999999999%\n",
      "4.32%\n",
      "4.36%\n",
      "4.3999999999999995%\n",
      "4.44%\n",
      "4.4799999999999995%\n",
      "4.52%\n",
      "4.5600000000000005%\n",
      "4.6%\n",
      "4.64%\n",
      "4.68%\n",
      "4.72%\n",
      "4.760000000000001%\n",
      "4.8%\n",
      "4.84%\n",
      "4.88%\n",
      "4.92%\n",
      "4.96%\n",
      "5.0%\n",
      "5.04%\n",
      "5.08%\n",
      "5.12%\n",
      "5.16%\n",
      "5.2%\n",
      "5.24%\n",
      "5.28%\n",
      "5.319999999999999%\n",
      "5.36%\n",
      "5.4%\n",
      "5.4399999999999995%\n",
      "5.48%\n",
      "5.52%\n",
      "5.56%\n",
      "5.6000000000000005%\n",
      "5.64%\n",
      "5.680000000000001%\n",
      "5.72%\n",
      "5.76%\n",
      "5.800000000000001%\n",
      "5.84%\n",
      "5.88%\n",
      "5.92%\n",
      "5.96%\n",
      "6.0%\n",
      "6.04%\n",
      "6.08%\n",
      "6.12%\n",
      "6.16%\n",
      "6.2%\n",
      "6.239999999999999%\n",
      "6.279999999999999%\n",
      "6.32%\n",
      "6.36%\n",
      "6.4%\n",
      "6.4399999999999995%\n",
      "6.4799999999999995%\n",
      "6.52%\n",
      "6.5600000000000005%\n",
      "6.6000000000000005%\n",
      "6.64%\n",
      "6.68%\n",
      "6.72%\n",
      "6.76%\n",
      "6.800000000000001%\n",
      "6.84%\n",
      "6.88%\n",
      "6.92%\n",
      "6.959999999999999%\n",
      "7.000000000000001%\n",
      "7.04%\n",
      "7.08%\n",
      "7.12%\n",
      "7.16%\n",
      "7.199999999999999%\n",
      "7.24%\n",
      "7.28%\n",
      "7.32%\n",
      "7.359999999999999%\n",
      "7.3999999999999995%\n",
      "7.4399999999999995%\n",
      "7.48%\n",
      "7.5200000000000005%\n",
      "7.5600000000000005%\n",
      "7.6%\n",
      "7.64%\n",
      "7.68%\n",
      "7.720000000000001%\n",
      "7.76%\n",
      "7.8%\n",
      "7.84%\n",
      "7.88%\n",
      "7.920000000000001%\n",
      "7.960000000000001%\n",
      "8.0%\n",
      "8.04%\n",
      "8.08%\n",
      "8.12%\n",
      "8.16%\n",
      "8.200000000000001%\n",
      "8.24%\n",
      "8.28%\n",
      "8.32%\n",
      "8.36%\n",
      "8.4%\n",
      "8.44%\n",
      "8.48%\n",
      "8.52%\n",
      "8.559999999999999%\n",
      "8.6%\n",
      "8.64%\n",
      "8.68%\n"
     ]
    }
   ],
   "source": [
    "GAN_test.train_all(250000)"
   ]
  },
  {
   "cell_type": "code",
   "execution_count": 13,
   "metadata": {},
   "outputs": [
    {
     "data": {
      "image/png": "[encoded data removed]",
      "text/plain": [
       "<Figure size 576x576 with 1 Axes>"
      ]
     },
     "metadata": {
      "needs_background": "light"
     },
     "output_type": "display_data"
    }
   ],
   "source": [
    "embedding_list = GAN_test.plot_UMAP(200)"
   ]
  },
  {
   "cell_type": "code",
   "execution_count": 14,
   "metadata": {},
   "outputs": [
    {
     "data": {
      "image/png": "[encoded data removed]",
      "text/plain": [
       "<Figure size 576x576 with 1 Axes>"
      ]
     },
     "metadata": {
      "needs_background": "light"
     },
     "output_type": "display_data"
    }
   ],
   "source": [
    "colors = embedding_list[2]\n",
    "palette = np.array(sns.color_palette(\"hls\", 2))\n",
    "f = plt.figure(figsize=(8, 8))\n",
    "ax = plt.subplot(aspect='equal')\n",
    "scatter1 = ax.scatter(embedding_list[0][np.where(colors == 0)], \n",
    "                      embedding_list[1][np.where(colors == 0)], lw=0, s=40, label='Original')\n",
    "scatter2 = ax.scatter(embedding_list[0][np.where(colors == 1)], \n",
    "                      embedding_list[1][np.where(colors == 1)], lw=0, s=40, label='Generated')\n",
    "\n",
    "\n",
    "plt.xlim(-25, 25)\n",
    "plt.ylim(-25, 25)\n",
    "\n",
    "plt.xlabel('UMAP 1', fontsize=18)\n",
    "plt.ylabel('UMAP 2', fontsize=18)\n",
    "ax.axis('tight')\n",
    "plt.legend(handles=[scatter1, scatter2])\n",
    "plt.show()\n",
    "#legend = plt.legend(handles=[one, two, three], title=\"title\", loc=4, fontsize='small', fancybox=True)\n"
   ]
  },
  {
   "cell_type": "code",
   "execution_count": 15,
   "metadata": {},
   "outputs": [],
   "source": [
    "generated_df = GAN_test.draw_cells(200)"
   ]
  },
  {
   "cell_type": "code",
   "execution_count": 16,
   "metadata": {},
   "outputs": [],
   "source": [
    "pd.DataFrame(embedding_list).T.to_csv('emb_list.csv', index=False)\n",
    "input_ltpm_matrix_train.to_csv('train.csv', index=False)\n",
    "input_ltpm_matrix_validation.to_csv('validation.csv', index=False)\n",
    "generated_df.to_csv('generated.csv', index=False)"
   ]
  },
  {
   "cell_type": "code",
   "execution_count": 17,
   "metadata": {},
   "outputs": [
    {
     "data": {
      "text/plain": [
       "(200, 5000)"
      ]
     },
     "execution_count": 17,
     "metadata": {},
     "output_type": "execute_result"
    }
   ],
   "source": [
    "input_ltpm_matrix_train.shape"
   ]
  },
  {
   "cell_type": "code",
   "execution_count": 18,
   "metadata": {},
   "outputs": [
    {
     "data": {
      "image/png": "[encoded data removed]",
      "text/plain": [
       "<Figure size 432x288 with 1 Axes>"
      ]
     },
     "metadata": {
      "needs_background": "light"
     },
     "output_type": "display_data"
    }
   ],
   "source": [
    "corel_list = []\n",
    "corel_list_gen = []\n",
    "\n",
    "tocor = generated_df.sample(100, axis=1)\n",
    "tocor_orig = pd.DataFrame(input_ltpm_matrix_validation).iloc[:,tocor.columns]\n",
    "\n",
    "for x in tocor_orig.columns:\n",
    "    for y in tocor_orig.columns:\n",
    "        if x != y:\n",
    "            corr = stats.pearsonr(tocor_orig[x],tocor_orig[y])\n",
    "            corel_list.append(corr[0])\n",
    "for x in tocor.columns:\n",
    "    for y in tocor.columns:\n",
    "        if x != y:\n",
    "            corr = stats.pearsonr(tocor[x],tocor[y])\n",
    "            corel_list_gen.append(corr[0])\n",
    "\n",
    "X = np.array(corel_list_gen)\n",
    "Y = np.array(corel_list)\n",
    "mask = ~np.isnan(X) & ~np.isnan(Y)\n",
    "X = X[mask]\n",
    "Y = Y[mask]\n",
    "xbar = sum(X)/len(X)\n",
    "ybar = sum(Y)/len(Y)\n",
    "n = len(X) # or len(Y)\n",
    "\n",
    "numer = sum([xi*yi for xi,yi in zip(X, Y)]) - n * xbar * ybar\n",
    "denum = sum([xi**2 for xi in X]) - n * xbar**2\n",
    "\n",
    "b = numer / denum\n",
    "a = ybar - b * xbar\n",
    "\n",
    "\n",
    "# plot points and fit line\n",
    "\n",
    "#plt.scatter(X, Y)\n",
    "yfit = [a + b * xi for xi in X]\n",
    "\n",
    "\n",
    "plt.scatter(corel_list_gen, corel_list,lw=0, s=1)\n",
    "#plt.scatter(corel_list_gen, np.poly1d(np.polyfit(corel_list_gen, corel_list, 1))(corel_list_gen))\n",
    "plt.plot(X, yfit, c = 'red')\n",
    "plt.xlabel('Pairwise correlation (Generated cells)', fontsize=10)\n",
    "plt.ylabel('Pairwise correlation (Real cells)', fontsize=10)\n",
    "ax.axis('tight')\n",
    "\n",
    "plt.show()"
   ]
  },
  {
   "cell_type": "code",
   "execution_count": 19,
   "metadata": {},
   "outputs": [
    {
     "data": {
      "text/plain": [
       "(0.5464682131525227, 0.0)"
      ]
     },
     "execution_count": 19,
     "metadata": {},
     "output_type": "execute_result"
    }
   ],
   "source": [
    "stats.pearsonr(X,Y)\n",
    "\n",
    "\n",
    "\n"
   ]
  },
  {
   "cell_type": "markdown",
   "metadata": {},
   "source": [
    "# Interpolation"
   ]
  },
  {
   "cell_type": "code",
   "execution_count": null,
   "metadata": {},
   "outputs": [],
   "source": [
    "def plot_start(test1, test2, df_filtered, df_filtered_start, df_filtered_end):\n",
    "    gencell = GAN_test.draw_cells_with_seed(test1)\n",
    "    gencell = gencell.append(GAN_test.draw_cells_with_seed(test2), ignore_index=True)\n",
    "    gencell['lab'] = 2\n",
    "\n",
    "    df_interp_orig = copy.deepcopy(df_filtered)\n",
    "    df_1 =  df_filtered_start.reset_index(drop=True).iloc[df_filtered_start.reset_index(drop=True).index==1]\n",
    "    df_2 = df_filtered_end.reset_index(drop=True).iloc[df_filtered_end.reset_index(drop=True).index==1]\n",
    "    df_3 = df_1.append(df_2,ignore_index=True)\n",
    "    df_3 = df_3.T.reset_index().T.reset_index(drop=True).iloc[1:]\n",
    "    df_3['lab'] = 1\n",
    "    df_interp_orig = df_interp_orig.T.reset_index().T.reset_index(drop=True).iloc[1:]\n",
    "    df_interp_orig['lab'] = 0\n",
    "    df_new = df_interp_orig.append(df_3,ignore_index=True)\n",
    "\n",
    "    df_new = df_new.append(gencell,ignore_index=True)\n",
    "\n",
    "    pca = PCA(n_components=100)\n",
    "    data_pca = pca.fit_transform(df_new.loc[:, df_new.columns != 'lab'])\n",
    "    reducer = umap.UMAP()\n",
    "    embedding = reducer.fit_transform(data_pca)\n",
    "    colors = df_new.loc[:,'lab']\n",
    "    palette = np.array(sns.color_palette(\"hls\", 3))\n",
    "    f = plt.figure(figsize=(8, 8))\n",
    "    ax = plt.subplot(aspect='equal')\n",
    "    sc = ax.scatter(embedding[:,0], embedding[:,1], lw=0, s=40,c=palette[colors.astype(np.int)])\n",
    "    plt.xlim(-25, 25)\n",
    "    plt.ylim(-25, 25)\n",
    "\n",
    "    ax.axis('tight')\n",
    "    plt.show()"
   ]
  },
  {
   "cell_type": "code",
   "execution_count": null,
   "metadata": {},
   "outputs": [],
   "source": [
    "def plot_interp(interpolated, df_filtered):\n",
    "    \n",
    "    df = copy.deepcopy(interpolated.reset_index(drop=True))\n",
    "    df_orig = copy.deepcopy(df_filtered.loc[:, df_filtered.columns != 'lab'])\n",
    "    df_orig = df_orig.T.reset_index().T.reset_index(drop=True).iloc[1:]\n",
    "    df = df.T.reset_index().T.reset_index(drop=True).iloc[1:]\n",
    "    df = df.assign(lab = 1)\n",
    "    df_orig = df_orig.assign(lab = 0)\n",
    "    df_new = df_orig.append(df, ignore_index=True)\n",
    "\n",
    "    pca = PCA(n_components=100)\n",
    "    data_pca = pca.fit_transform(df_orig.loc[:, df_orig.columns != 'lab'])\n",
    "    \n",
    "    data_pca_tr = pca.transform(df.loc[:, df.columns != 'lab'])\n",
    "    \n",
    "    reducer = umap.UMAP()\n",
    "    \n",
    "    embedding = reducer.fit_transform(data_pca)\n",
    "    embedding_tr = reducer.transform(data_pca_tr)\n",
    "    \n",
    "    embedding_final = np.concatenate((embedding, embedding_tr), axis=0)\n",
    "    \n",
    "    colors = df_new.loc[:,'lab']\n",
    "    palette = np.array(sns.color_palette(\"hls\", 2))\n",
    "    f = plt.figure(figsize=(8, 8))\n",
    "    ax = plt.subplot(aspect='equal')\n",
    "    sc = ax.scatter(embedding_final[:,0], embedding_final[:,1], lw=0, s=40,c=palette[colors.astype(np.int)])\n",
    "    plt.xlim(-25, 25)\n",
    "    plt.ylim(-25, 25)\n",
    "\n",
    "    ax.axis('tight')\n",
    "    plt.show()"
   ]
  },
  {
   "cell_type": "code",
   "execution_count": null,
   "metadata": {},
   "outputs": [],
   "source": [
    "def plot_interp_gene(interpolated, df_filtered):\n",
    "    \n",
    "    df = copy.deepcopy(interpolated.reset_index(drop=True))\n",
    "    df_orig = copy.deepcopy(df_filtered.loc[:, df_filtered.columns != 'lab'])\n",
    "    df_orig = df_orig.T.reset_index().T.reset_index(drop=True).iloc[1:]\n",
    "    df = df.T.reset_index().T.reset_index(drop=True).iloc[1:]\n",
    "    df = df.assign(lab = 1)\n",
    "    df_orig = df_orig.assign(lab = 0)\n",
    "    df_new = df_orig.append(df, ignore_index=True)\n",
    "\n",
    "    \n",
    "    colors = df_new.loc[:,'lab']\n",
    "    palette = np.array(sns.color_palette(\"hls\", 2))\n",
    "    f = plt.figure(figsize=(8, 8))\n",
    "    ax = plt.subplot(aspect='equal')\n",
    "    sc = ax.scatter(df_new.iloc[:,80], df_new.iloc[:,55], lw=0, s=40,c=palette[colors.astype(np.int)])\n",
    "    plt.xlim(-25, 25)\n",
    "    plt.ylim(-25, 25)\n",
    "\n",
    "    ax.axis('tight')\n",
    "    plt.show()"
   ]
  },
  {
   "cell_type": "code",
   "execution_count": null,
   "metadata": {},
   "outputs": [],
   "source": [
    "df_1 =  copy.deepcopy(df_filtered_start.reset_index(drop=True).iloc[df_filtered_start.reset_index(drop=True).index==1])\n",
    "df_2 = copy.deepcopy(df_filtered_end.reset_index(drop=True).iloc[df_filtered_end.reset_index(drop=True).index==1])\n",
    "    \n",
    "test1 = GAN_test.recover_latentrep(df_1.values[0], 100000)\n",
    "test2 = GAN_test.recover_latentrep(df_2.values[0], 100000)\n",
    "\n"
   ]
  },
  {
   "cell_type": "code",
   "execution_count": null,
   "metadata": {},
   "outputs": [],
   "source": [
    "test1_pd = pd.DataFrame(test1).T\n",
    "test2_pd = pd.DataFrame(test2).T"
   ]
  },
  {
   "cell_type": "code",
   "execution_count": null,
   "metadata": {},
   "outputs": [],
   "source": [
    "np.abs(df_1-df_2).max(axis=1)"
   ]
  },
  {
   "cell_type": "code",
   "execution_count": null,
   "metadata": {},
   "outputs": [],
   "source": [
    "np.abs(test1_pd-test2_pd).max(axis=1)"
   ]
  },
  {
   "cell_type": "code",
   "execution_count": null,
   "metadata": {},
   "outputs": [],
   "source": [
    "np.abs(df_1-df_2).apply(lambda x: pd.Series(np.concatenate([x.nlargest(2).index.values])), axis=1)\n"
   ]
  },
  {
   "cell_type": "code",
   "execution_count": null,
   "metadata": {},
   "outputs": [],
   "source": [
    "np.abs(test1_pd-test2_pd).apply(lambda x: pd.Series(np.concatenate([x.nlargest(2).index.values])), axis=1)"
   ]
  },
  {
   "cell_type": "code",
   "execution_count": null,
   "metadata": {},
   "outputs": [],
   "source": [
    "plot_start(test1, test2, df_filtered)"
   ]
  },
  {
   "cell_type": "code",
   "execution_count": null,
   "metadata": {},
   "outputs": [],
   "source": [
    "for index in range(100):\n",
    "    interpolated = GAN_test.interpolate_cells(test1, test2, index)\n",
    "    plot_interp(interpolated, df_filtered)"
   ]
  },
  {
   "cell_type": "markdown",
   "metadata": {},
   "source": [
    "# Style transfer"
   ]
  },
  {
   "cell_type": "code",
   "execution_count": null,
   "metadata": {},
   "outputs": [],
   "source": [
    "#df_all = copy.deepcopy(input_ltpm_matrix)\n",
    "#df_all['labels'] = input_ltpm_matrix_labs\n",
    "#df_all['states'] = input_ltpm_matrix_states\n",
    "#pertvec = GAN_test.train_pertvec(input_ltpm_matrix,input_ltpm_matrix_labs, input_ltpm_matrix_states,10000, 10, 10000)\n",
    "\n"
   ]
  },
  {
   "cell_type": "code",
   "execution_count": null,
   "metadata": {},
   "outputs": [],
   "source": [
    "pert_vecs_mean = []\n",
    "\n",
    "for index in range(6):\n",
    "    print(index)\n",
    "    pert_vecs_raw = {}\n",
    "    sample_count = 50\n",
    "    num_count = 10000\n",
    "\n",
    "    df_transfer = copy.deepcopy(df_style)\n",
    "    df_transfer['labels'] = labs_filt\n",
    "    df_transfer['states'] = states_filt\n",
    "\n",
    "    df_transfer = df_transfer[(df_transfer['labels']==index)]\n",
    "    df_transfer_start = df_transfer[(df_transfer['states']==0)]\n",
    "    df_transfer_end = df_transfer[(df_transfer['states']==1)]\n",
    "    df_transfer_start = df_transfer_start.drop('labels', 1)\n",
    "    df_transfer_start = df_transfer_start.drop('states', 1)\n",
    "    df_transfer_end = df_transfer_end.drop('labels', 1)\n",
    "    df_transfer_end = df_transfer_end.drop('states', 1)\n",
    "\n",
    "    i = 0\n",
    "    for index in range(10): # do it with random sampling\n",
    "\n",
    "        if i % 1 == 0:\n",
    "            print(str((i/sample_count)*100) + '%')\n",
    "        i += 1\n",
    "        startvec = df_transfer_start.iloc[index,:]\n",
    "        endvec = df_transfer_end.iloc[index,:]\n",
    "\n",
    "        start_noise = GAN_test.recover_latentrep(startvec, num_count)\n",
    "        end_noise = GAN_test.recover_latentrep(endvec, num_count)\n",
    "\n",
    "        pert_vecs_raw[index] =  end_noise - start_noise\n",
    "\n",
    "    pert_vecs_mean.append(pd.DataFrame(pert_vecs_raw).median(axis=1))\n"
   ]
  },
  {
   "cell_type": "code",
   "execution_count": null,
   "metadata": {},
   "outputs": [],
   "source": [
    "agg_means = pd.DataFrame(pert_vecs_mean).T.median(axis=1)"
   ]
  },
  {
   "cell_type": "code",
   "execution_count": null,
   "metadata": {},
   "outputs": [],
   "source": [
    "#sns.pairplot(pd.DataFrame(pert_vecs_mean).T)"
   ]
  },
  {
   "cell_type": "code",
   "execution_count": null,
   "metadata": {},
   "outputs": [],
   "source": [
    "true_starters = []\n",
    "sim_ends = []\n",
    "alpha_factor = 5\n",
    "for j in range(50):\n",
    "    labels_to_test = 6\n",
    "    df_style_test = copy.deepcopy(df_style)\n",
    "    df_style_test['labels'] = labs_filt\n",
    "    df_style_test['states'] = states_filt\n",
    "\n",
    "    df_style_test = df_style_test[(df_style_test['labels']==labels_to_test)]\n",
    "    df_style_test_start = df_style_test[(df_style_test['states']==0)]\n",
    "    df_style_test_end = df_style_test[(df_style_test['states']==1)]\n",
    "\n",
    "    df_style_test = df_style_test.drop('labels', 1)\n",
    "    df_style_test = df_style_test.drop('states', 1)\n",
    "    df_style_test_start = df_style_test_start.drop('labels', 1)\n",
    "    df_style_test_start = df_style_test_start.drop('states', 1)\n",
    "    df_style_test_end = df_style_test_end.drop('labels', 1)\n",
    "    df_style_test_end = df_style_test_end.drop('states', 1)\n",
    "\n",
    "    df_1 =  copy.deepcopy(df_style_test_start.reset_index(drop=True).iloc[df_style_test_start.reset_index(drop=True).index==j])\n",
    "    df_2 = copy.deepcopy(df_style_test_end.reset_index(drop=True).iloc[df_style_test_end.reset_index(drop=True).index==j])\n",
    "\n",
    "\n",
    "    test1 = GAN_test.recover_latentrep(df_1.values[0], 100000)\n",
    "    true_starters.append(df_1.values[0])\n",
    "    test2 = np.array(test1 + alpha_factor * agg_means)\n",
    "    sim_ends.append(GAN_test.draw_cells_with_seed(test2))\n",
    "    print(j)\n",
    "    #plot_start(test1, test2, df_style, df_style_test_start, df_style_test_end)"
   ]
  },
  {
   "cell_type": "code",
   "execution_count": null,
   "metadata": {},
   "outputs": [],
   "source": [
    "true_starters"
   ]
  },
  {
   "cell_type": "code",
   "execution_count": null,
   "metadata": {},
   "outputs": [],
   "source": [
    "plot_start(test1, test2, df_style, df_style_test_start, df_style_test_end)\n"
   ]
  },
  {
   "cell_type": "code",
   "execution_count": null,
   "metadata": {},
   "outputs": [],
   "source": [
    "df_filtered_oob = copy.deepcopy(input_ltpm_matrix)\n",
    "df_filtered_oob['labels'] = input_ltpm_matrix_labs\n",
    "df_filtered_oob['states'] = input_ltpm_matrix_states\n",
    "\n",
    "df_filtered_oob = df_filtered_oob[(df_filtered_oob['labels']==6)]\n",
    "df_filtered_start_oob = df_filtered_oob[(df_filtered_oob['states']==0)]\n",
    "df_filtered_end_oob = df_filtered_oob[(df_filtered_oob['states']==1)]\n",
    "\n",
    "df_filtered_oob = df_filtered_oob.drop('labels', 1)\n",
    "df_filtered_oob = df_filtered_oob.drop('states', 1)\n",
    "df_filtered_start_oob = df_filtered_start_oob.drop('labels', 1)\n",
    "df_filtered_start_oob = df_filtered_start_oob.drop('states', 1)\n",
    "df_filtered_end_oob = df_filtered_end_oob.drop('labels', 1)\n",
    "df_filtered_end_oob = df_filtered_end_oob.drop('states', 1)\n"
   ]
  },
  {
   "cell_type": "code",
   "execution_count": null,
   "metadata": {},
   "outputs": [],
   "source": [
    "simdatadf = pd.DataFrame(sim_ends[0])\n",
    "for index in range(len(sim_ends)-1):\n",
    "    simdatadf=simdatadf.append(sim_ends[index+1])\n",
    "\n",
    "oob = copy.deepcopy(df_filtered_oob)\n",
    "true_starters_pd = pd.DataFrame(true_starters)\n",
    "sim_ends_pd = pd.DataFrame(simdatadf)\n",
    "oob = oob.T.reset_index().T.reset_index(drop=True).iloc[1:]\n",
    "oob = oob.assign(lab = 0)\n",
    "true_starters_pd = true_starters_pd.assign(lab = 1)\n",
    "sim_ends_pd = sim_ends_pd.assign(lab = 2)\n",
    "\n",
    "oob_all = copy.deepcopy(oob)\n",
    "oob_all = oob_all.append(true_starters_pd)\n",
    "oob_all = oob_all.append(sim_ends_pd)\n",
    "\n",
    "generated_oob = true_starters_pd.append(sim_ends_pd, ignore_index=True)\n",
    "\n",
    "\n",
    "pca = PCA(n_components=100)\n",
    "data_pca = pca.fit_transform(oob.loc[:, oob.columns != 'lab'])\n",
    "data_pca_gen = pca.transform(generated_oob.loc[:, generated_oob.columns != 'lab'])\n",
    "#data_pca_tr = pca.transform(df.loc[:, df.columns != 'lab'])\n",
    "\n",
    "#data_pca_tr = pca.transform(true_starters_pd)\n",
    "\n",
    "reducer = umap.UMAP()\n",
    "\n",
    "embedding = reducer.fit_transform(data_pca)\n",
    "embedding_gen = reducer.transform(data_pca_gen)\n",
    "\n",
    "embedding = np.concatenate((embedding, embedding_gen), axis=0)\n",
    "\n",
    "embedding_tr = copy.deepcopy(pd.DataFrame(embedding))\n",
    "embedding_tr['lab'] = oob_all.lab.reset_index(drop=True)\n",
    "\n",
    "embedding_tr_start = embedding_tr[(embedding_tr['lab']==1)]\n",
    "embedding_tr_end = embedding_tr[(embedding_tr['lab']==2)]\n",
    "#embedding_tr = reducer.transform(data_pca_tr)\n",
    "\n",
    "#embedding_final = np.concatenate((embedding, embedding_tr), axis=0)\n",
    "\n",
    "colors = oob_all.loc[:,'lab']\n",
    "palette = np.array(sns.color_palette(\"hls\", 3))\n",
    "f = plt.figure(figsize=(8, 8))\n",
    "ax = plt.subplot(aspect='equal')\n",
    "sc = ax.scatter(embedding[:,0], embedding[:,1], lw=0, s=40,c=palette[colors.astype(np.int)])\n",
    "for index in range(len(embedding_tr_start)):\n",
    "    plt.arrow(embedding_tr_start.iloc[index,0], embedding_tr_start.iloc[index,1], \n",
    "                  embedding_tr_end.iloc[index,0] - embedding_tr_start.iloc[index,0], \n",
    "              embedding_tr_end.iloc[index,1] - embedding_tr_start.iloc[index,1]\n",
    "                 )\n",
    "\n",
    "#sc = ax.scatter(embedding[:,0], embedding[:,1], lw=0, s=40)\n",
    "plt.xlim(-25, 25)\n",
    "plt.ylim(-25, 25)\n",
    "\n",
    "ax.axis('tight')\n",
    "plt.show()"
   ]
  },
  {
   "cell_type": "code",
   "execution_count": null,
   "metadata": {},
   "outputs": [],
   "source": [
    "simdatadf = pd.DataFrame(sim_ends[0])\n",
    "for index in range(len(sim_ends)-1):\n",
    "    simdatadf=simdatadf.append(sim_ends[index+1])\n",
    "\n",
    "oob = copy.deepcopy(input_ltpm_matrix)\n",
    "true_starters_pd = pd.DataFrame(true_starters)\n",
    "sim_ends_pd = pd.DataFrame(simdatadf)\n",
    "oob = oob.T.reset_index().T.reset_index(drop=True).iloc[1:]\n",
    "oob = oob.assign(lab = 0)\n",
    "true_starters_pd = true_starters_pd.assign(lab = 1)\n",
    "sim_ends_pd = sim_ends_pd.assign(lab = 2)\n",
    "\n",
    "oob_all = copy.deepcopy(oob)\n",
    "oob_all = oob_all.append(true_starters_pd)\n",
    "oob_all = oob_all.append(sim_ends_pd)\n",
    "\n",
    "generated_oob = true_starters_pd.append(sim_ends_pd, ignore_index=True)\n",
    "\n",
    "\n",
    "pca = PCA(n_components=100)\n",
    "data_pca = pca.fit_transform(oob.loc[:, oob.columns != 'lab'])\n",
    "data_pca_gen = pca.transform(generated_oob.loc[:, generated_oob.columns != 'lab'])\n",
    "#data_pca_tr = pca.transform(df.loc[:, df.columns != 'lab'])\n",
    "\n",
    "#data_pca_tr = pca.transform(true_starters_pd)\n",
    "\n",
    "reducer = umap.UMAP()\n",
    "\n",
    "embedding = reducer.fit_transform(data_pca)\n",
    "embedding_gen = reducer.transform(data_pca_gen)\n",
    "\n",
    "embedding = np.concatenate((embedding, embedding_gen), axis=0)\n",
    "\n",
    "embedding_tr = copy.deepcopy(pd.DataFrame(embedding))\n",
    "embedding_tr['lab'] = oob_all.lab.reset_index(drop=True)\n",
    "\n",
    "embedding_tr_start = embedding_tr[(embedding_tr['lab']==1)]\n",
    "embedding_tr_end = embedding_tr[(embedding_tr['lab']==2)]\n",
    "#embedding_tr = reducer.transform(data_pca_tr)\n",
    "\n",
    "#embedding_final = np.concatenate((embedding, embedding_tr), axis=0)\n",
    "\n",
    "colors = oob_all.loc[:,'lab']\n",
    "palette = np.array(sns.color_palette(\"hls\", 3))\n",
    "f = plt.figure(figsize=(8, 8))\n",
    "ax = plt.subplot(aspect='equal')\n",
    "sc = ax.scatter(embedding[:,0], embedding[:,1], lw=0, s=40,c=palette[colors.astype(np.int)])\n",
    "for index in range(len(embedding_tr_start)):\n",
    "    plt.arrow(embedding_tr_start.iloc[index,0], embedding_tr_start.iloc[index,1], \n",
    "                  embedding_tr_end.iloc[index,0] - embedding_tr_start.iloc[index,0], \n",
    "              embedding_tr_end.iloc[index,1] - embedding_tr_start.iloc[index,1]\n",
    "                 )\n",
    "\n",
    "#sc = ax.scatter(embedding[:,0], embedding[:,1], lw=0, s=40)\n",
    "plt.xlim(-25, 25)\n",
    "plt.ylim(-25, 25)\n",
    "\n",
    "ax.axis('tight')\n",
    "plt.show()"
   ]
  },
  {
   "cell_type": "code",
   "execution_count": null,
   "metadata": {},
   "outputs": [],
   "source": [
    "df_style = copy.deepcopy(input_ltpm_matrix)\n",
    "df_style['labels'] = copy.deepcopy(input_ltpm_matrix_labs)\n",
    "df_style['states'] = copy.deepcopy(input_ltpm_matrix_states)\n",
    "\n",
    "df_style['id'] = df_style.labels.map(str) + \"\" + df_style.states.map(str)\n",
    "df_style = df_style.drop('labels', 1)\n",
    "df_style = df_style.drop('states', 1)\n",
    "#df_style = df_style[(df_style['id']!='61')]\n",
    "\n",
    "mean_dict_stats = {}\n",
    "for index in np.unique(df_style['id']):\n",
    "    df_style_temp =  copy.deepcopy(df_style[(df_style['id']==index)])\n",
    "    mean_dict_stats[index] = df_style_temp.mean(axis=0)\n",
    "#df_style = df_style.drop('id', 1)\n",
    "mean_dict_stats = pd.DataFrame(mean_dict_stats).T.reset_index(drop = True)\n",
    "mean_dict_stats = mean_dict_stats.drop('id', 1)\n"
   ]
  },
  {
   "cell_type": "code",
   "execution_count": null,
   "metadata": {},
   "outputs": [],
   "source": [
    "sim_ends_pd_stats = copy.deepcopy(sim_ends_pd).drop('lab', 1).mean(axis=0)\n",
    "mean_dict_stats = mean_dict_stats.T.reset_index().T.reset_index(drop=True).iloc[1:]\n",
    "mean_dict_stats = mean_dict_stats.append(sim_ends_pd_stats,ignore_index=True)\n",
    "reqd_cols = mean_dict_stats.columns\n",
    "mean_dict_stats[reqd_cols] = mean_dict_stats[reqd_cols].astype('float64')"
   ]
  },
  {
   "cell_type": "code",
   "execution_count": null,
   "metadata": {},
   "outputs": [],
   "source": [
    "mean_dict_stats.T"
   ]
  },
  {
   "cell_type": "code",
   "execution_count": null,
   "metadata": {},
   "outputs": [],
   "source": [
    "sns.pairplot(mean_dict_stats.T)"
   ]
  },
  {
   "cell_type": "code",
   "execution_count": null,
   "metadata": {},
   "outputs": [],
   "source": [
    "corr_stat_ids = np.concatenate(np.unique(df_style['id']), ['gen'])"
   ]
  },
  {
   "cell_type": "code",
   "execution_count": null,
   "metadata": {},
   "outputs": [],
   "source": [
    "np.unique(df_style['id'])"
   ]
  },
  {
   "cell_type": "code",
   "execution_count": null,
   "metadata": {},
   "outputs": [],
   "source": [
    "df_corr = pd.DataFrame() # Correlation matrix\n",
    "df_p = pd.DataFrame()  # Matrix of p-values\n",
    "for x in mean_dict_stats.T.columns:\n",
    "    for y in mean_dict_stats.T.columns:\n",
    "        corr = stats.pearsonr(mean_dict_stats.T[x], mean_dict_stats.T[y])\n",
    "        df_corr.loc[x,y] = corr[0]\n",
    "        df_p.loc[x,y] = corr[1]"
   ]
  },
  {
   "cell_type": "code",
   "execution_count": null,
   "metadata": {},
   "outputs": [],
   "source": [
    "plt.pcolor(df_corr)\n",
    "plt.yticks(np.arange(0.5, len(df_corr.index), 1), df_corr.index)\n",
    "plt.xticks(np.arange(0.5, len(df_corr.columns), 1), df_corr.columns)\n",
    "plt.show()"
   ]
  },
  {
   "cell_type": "code",
   "execution_count": null,
   "metadata": {},
   "outputs": [],
   "source": [
    "oob = copy.deepcopy(df_filtered_start_oob)\n",
    "oob2 = copy.deepcopy(df_filtered_end_oob)\n",
    "\n",
    "oob = oob.assign(lab = 0)\n",
    "\n",
    "oob2 = oob2.assign(lab = 1)\n",
    "\n",
    "oob = oob.append(oob2, ignore_index=True)\n",
    "\n",
    "\n",
    "pca = PCA(n_components=100)\n",
    "data_pca = pca.fit_transform(oob.loc[:, oob.columns != 'lab'])\n",
    "#data_pca_tr = pca.transform(df.loc[:, df.columns != 'lab'])\n",
    "\n",
    "#data_pca_tr = pca.transform(true_starters_pd)\n",
    "\n",
    "reducer = umap.UMAP()\n",
    "\n",
    "embedding = reducer.fit_transform(data_pca)\n",
    "#embedding_tr = reducer.transform(data_pca_tr)\n",
    "\n",
    "#embedding_final = np.concatenate((embedding, embedding_tr), axis=0)\n",
    "\n",
    "colors = oob.loc[:,'lab']\n",
    "palette = np.array(sns.color_palette(\"hls\", 2))\n",
    "f = plt.figure(figsize=(8, 8))\n",
    "ax = plt.subplot(aspect='equal')\n",
    "sc = ax.scatter(embedding[:,0], embedding[:,1], lw=0, s=40,c=palette[colors.astype(np.int)])\n",
    "#sc = ax.scatter(embedding[:,0], embedding[:,1], lw=0, s=40)\n",
    "plt.xlim(-25, 25)\n",
    "plt.ylim(-25, 25)\n",
    "\n",
    "ax.axis('tight')\n",
    "plt.show()"
   ]
  },
  {
   "cell_type": "code",
   "execution_count": null,
   "metadata": {},
   "outputs": [],
   "source": [
    "sns.palplot(sns.color_palette(\"hls\", 3))\n"
   ]
  },
  {
   "cell_type": "code",
   "execution_count": null,
   "metadata": {},
   "outputs": [],
   "source": [
    "pd.DataFrame(sim_ends)"
   ]
  },
  {
   "cell_type": "markdown",
   "metadata": {},
   "source": [
    "\n",
    "# vsa"
   ]
  },
  {
   "cell_type": "code",
   "execution_count": null,
   "metadata": {},
   "outputs": [],
   "source": []
  },
  {
   "cell_type": "code",
   "execution_count": null,
   "metadata": {},
   "outputs": [],
   "source": []
  }
 ],
 "metadata": {
  "kernelspec": {
   "display_name": "Python 3",
   "language": "python",
   "name": "python3"
  },
  "language_info": {
   "codemirror_mode": {
    "name": "ipython",
    "version": 3
   },
   "file_extension": ".py",
   "mimetype": "text/x-python",
   "name": "python",
   "nbconvert_exporter": "python",
   "pygments_lexer": "ipython3",
   "version": "3.5.2"
  }
 },
 "nbformat": 4,
 "nbformat_minor": 2
}
